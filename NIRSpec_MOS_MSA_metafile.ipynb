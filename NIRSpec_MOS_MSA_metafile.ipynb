{
 "cells": [
  {
   "cell_type": "markdown",
   "id": "c62ab04c-6a0b-4cbe-bba1-d193627d0688",
   "metadata": {},
   "source": [
    "# NIRSpec MOS MSA metafile\n",
    "\n",
    "The \n",
    "[MSA metadata file](https://jwst-pipeline.readthedocs.io/en/latest/jwst/data_products/msa_metadata.html)\n",
    "records information about \n",
    "NIRSpec [MOS](https://jwst-docs.stsci.edu/jwst-near-infrared-spectrograph/nirspec-observing-modes/nirspec-multi-object-spectroscopy) (multi-object spectroscopy)\n",
    "[MSA](https://jwst-docs.stsci.edu/jwst-near-infrared-spectrograph/nirspec-instrumentation/nirspec-micro-shutter-assembly) (mirco-shutter assembly)\n",
    "configurations as planned by \n",
    "[APT](https://jwst-docs.stsci.edu/jwst-astronomers-proposal-tool-overview)'s\n",
    "[MSA Planning Tool (MPT)](https://jwst-docs.stsci.edu/jwst-near-infrared-spectrograph/nirspec-apt-templates/nirspec-multi-object-spectroscopy-apt-template/nirspec-msa-planning-tool-mpt):\n",
    "\n",
    "* `SHUTTER_IMAGE` (2D array): map of which MSA shutters were open and closed\n",
    "* `SHUTTER_INFO` (table): for each shutter, it is part of a longer slit, and does it contain a science target or empty background?\n",
    "* `SOURCE_INFO` (table): catalog of science targets plus fake targets in empty slits\n",
    "\n",
    "They are used by the \n",
    "[JWST pipeline](https://jwst-docs.stsci.edu/jwst-science-calibration-pipeline) \n",
    "to extract spectra for sources.\n",
    "The files are available on MAST.\n",
    "Each NIRSpec MOS data product includes the name of the associated MSA metadata file in its header (keyword `MSAMETFL`).\n",
    "\n",
    "The pipeline expects the MSA metadata file to be in the same directory as the input data files. Below, we demonstrate editing the MSA metafile. We save this file in a new directory *using the same filename* and link to the data files from that directory. The pipeline can then be run from that directory, and the headers will still point to the MSA metadata file. \n",
    "Alternatively, if the updated MSA metadata file were given a new filename, then you must also edit the data file headers to point to the new MSA metadata file."
   ]
  },
  {
   "cell_type": "markdown",
   "id": "d8d2233b",
   "metadata": {},
   "source": [
    "Below we explore MSA metadata file contents and show how to edit it for:\n",
    "* subset of sources\n",
    "* science vs. background shutters\n",
    "* point source vs. extended targets (used by the path loss correction)\n",
    "\n",
    "Finally we show how to:\n",
    "* view the shutter image map"
   ]
  },
  {
   "cell_type": "markdown",
   "id": "416191df-b66b-4a61-8cf6-868adbe97b6b",
   "metadata": {},
   "source": [
    "MSA metadata file edits are also covered in other example notebooks:\n",
    "* [NSClean](https://github.com/spacetelescope/jwst-caveat-examples/blob/main/NIRSPEC_MOS/nrs_mos_clean_1f_noise_workaround.ipynb)\n",
    "* [JWebbinar 7](https://github.com/spacetelescope/jwebbinar_prep/blob/faf56cd5f2cadca15e72be4180cd7f957ff3b1d8/mos_session/jwebbinar7_nirspecmos.ipynb) also on NIRSpec MOS pipeline processing"
   ]
  },
  {
   "cell_type": "code",
   "execution_count": 1,
   "id": "b5c19165-2e23-4b28-b639-f1d79b627fc9",
   "metadata": {},
   "outputs": [],
   "source": [
    "import os\n",
    "home = os.path.expanduser(\"~\")\n",
    "from glob import glob\n",
    "import numpy as np\n",
    "from astropy.io import fits\n",
    "from astropy.table import Table, vstack, unique"
   ]
  },
  {
   "cell_type": "code",
   "execution_count": 2,
   "id": "bcefb916",
   "metadata": {},
   "outputs": [],
   "source": [
    "def single_value(x):  # True = one number; False = multiple numbers (list / tuple / array / set)\n",
    "    return isinstance(x, (int, float))\n",
    "\n",
    "def filter_table(full_table, **kwargs):\n",
    "    \"\"\"\n",
    "    Filters an Astropy Table based an arbitrary number of input column-value pairs.\n",
    "    Each value can be either a single value or a list (or tuple, array, or set).\n",
    "    Example:\n",
    "    select_shutter_table = filter_table(shutter_table, msa_metadata_id=1, dither_point_index=1, source_id=[6355,5144])\n",
    "    \"\"\"\n",
    "    filtered_table = full_table\n",
    "    for column, value in kwargs.items():\n",
    "        if single_value(value):\n",
    "            filtered_table = filtered_table[filtered_table[column] == value]\n",
    "        else: # list\n",
    "            filtered_table = filtered_table[[(item in value) for item in filtered_table[column]]]\n",
    "    return filtered_table"
   ]
  },
  {
   "cell_type": "code",
   "execution_count": 3,
   "id": "58cedc2f",
   "metadata": {},
   "outputs": [
    {
     "name": "stdout",
     "output_type": "stream",
     "text": [
      "astroquery version 0.4.7\n"
     ]
    }
   ],
   "source": [
    "# To retrieve data from MAST\n",
    "import astroquery\n",
    "from astroquery.mast import Observations  # MAST\n",
    "print('astroquery version', astroquery.__version__)\n",
    "\n",
    "# Helper function to download JWST files from MAST\n",
    "def download_jwst_files(filenames, download_dir, mast_dir='mast:jwst/product'):\n",
    "    \"\"\"\n",
    "    Helper function to download JWST files from MAST.\n",
    "\n",
    "    Parameters:\n",
    "    ----------\n",
    "    filenames: list of str\n",
    "        List of filenames to download.\n",
    "    download_dir: str\n",
    "        Directory where the files will be downloaded.\n",
    "    mast_dir: str\n",
    "        MAST directory containing JWST products.\n",
    "\n",
    "    Returns:\n",
    "    -------\n",
    "    downloaded_files: list of str\n",
    "        List of downloaded file paths.\n",
    "    \"\"\"\n",
    "    # Download data\n",
    "    downloaded_files = []\n",
    "    os.makedirs(download_dir, exist_ok=True)\n",
    "    for filename in filenames:\n",
    "        filename = os.path.basename(filename)\n",
    "        mast_path = os.path.join(mast_dir, filename)\n",
    "        local_path = os.path.join(download_dir, filename)\n",
    "        if os.path.exists(local_path):\n",
    "            print(local_path, 'EXISTS')\n",
    "        else:\n",
    "            # Can let this command check if local file exists\n",
    "            # However, it will delete it if it's there\n",
    "            # and the wrong size (e.g., reprocessed)\n",
    "            Observations.download_file(mast_path,   local_path=local_path)\n",
    "        downloaded_files.append(local_path)\n",
    "\n",
    "    return downloaded_files"
   ]
  },
  {
   "cell_type": "code",
   "execution_count": 4,
   "id": "49bc054e",
   "metadata": {},
   "outputs": [],
   "source": [
    "# Create links in output_dir directory to source files\n",
    "def link_to_files(source_files, output_dir):\n",
    "    for source_file in source_files:\n",
    "        link = os.path.join(output_dir, os.path.basename(source_file))\n",
    "        print(link, '->', source_file)\n",
    "        if not os.path.exists(link):\n",
    "            os.symlink(os.path.abspath(source_file), link)"
   ]
  },
  {
   "cell_type": "code",
   "execution_count": 5,
   "id": "24afe711",
   "metadata": {},
   "outputs": [],
   "source": [
    "import requests\n",
    "\n",
    "def download_file(url, download_dir=''):  # simple for small files\n",
    "    filename = os.path.basename(url)\n",
    "    if download_dir:\n",
    "        if os.path.isdir(download_dir):\n",
    "            filename = os.path.join(download_dir, filename)\n",
    "    if os.path.exists(filename):\n",
    "        print(filename, 'EXISTS')\n",
    "    else:\n",
    "        print('DOWNLOADING', filename)\n",
    "        r = requests.get(url, allow_redirects=True)\n",
    "        open(filename, 'wb').write(r.content)\n",
    "    return filename"
   ]
  },
  {
   "cell_type": "markdown",
   "id": "24d9771f",
   "metadata": {},
   "source": [
    "# MSA metafile\n",
    "\n"
   ]
  },
  {
   "cell_type": "code",
   "execution_count": 6,
   "id": "cd8edfb3",
   "metadata": {},
   "outputs": [],
   "source": [
    "# If you know the filename, you can skip this section\n",
    "#msa_metafile = 'jw02736007001_01_msa.fits'"
   ]
  },
  {
   "cell_type": "code",
   "execution_count": 7,
   "id": "2661d84a",
   "metadata": {},
   "outputs": [],
   "source": [
    "# Define data directory\n",
    "data_dir = 'data'\n",
    "os.makedirs(data_dir, exist_ok=True)"
   ]
  },
  {
   "cell_type": "code",
   "execution_count": 8,
   "id": "9768e6af",
   "metadata": {},
   "outputs": [
    {
     "name": "stdout",
     "output_type": "stream",
     "text": [
      "data/jw02736-o007_s06355_nirspec_f290lp-g395m_s2d.fits EXISTS\n"
     ]
    },
    {
     "data": {
      "text/plain": [
       "'data/jw02736-o007_s06355_nirspec_f290lp-g395m_s2d.fits'"
      ]
     },
     "execution_count": 8,
     "metadata": {},
     "output_type": "execute_result"
    }
   ],
   "source": [
    "source_id = 6355  # z = 7.665\n",
    "data_file = 'jw02736-o007_s%05d_nirspec_f290lp-g395m_s2d.fits' % source_id\n",
    "data_file = download_jwst_files([data_file], data_dir)[0]\n",
    "data_file"
   ]
  },
  {
   "cell_type": "code",
   "execution_count": 9,
   "id": "ca8818ff",
   "metadata": {},
   "outputs": [
    {
     "data": {
      "text/plain": [
       "'jw02736007001_01_msa.fits'"
      ]
     },
     "execution_count": 9,
     "metadata": {},
     "output_type": "execute_result"
    }
   ],
   "source": [
    "msa_metafile_name = fits.getval(data_file, 'MSAMETFL')\n",
    "msa_metafile_name"
   ]
  },
  {
   "cell_type": "code",
   "execution_count": 10,
   "id": "bf31f932",
   "metadata": {},
   "outputs": [
    {
     "name": "stdout",
     "output_type": "stream",
     "text": [
      "data/jw02736007001_01_msa.fits EXISTS\n"
     ]
    },
    {
     "data": {
      "text/plain": [
       "'data/jw02736007001_01_msa.fits'"
      ]
     },
     "execution_count": 10,
     "metadata": {},
     "output_type": "execute_result"
    }
   ],
   "source": [
    "msa_metafile = download_jwst_files([msa_metafile_name], data_dir)[0]\n",
    "msa_metafile"
   ]
  },
  {
   "cell_type": "markdown",
   "id": "e57c0393",
   "metadata": {},
   "source": [
    "# Load MSA metafile and inspect contents"
   ]
  },
  {
   "cell_type": "code",
   "execution_count": 11,
   "id": "8474edd4",
   "metadata": {},
   "outputs": [
    {
     "name": "stdout",
     "output_type": "stream",
     "text": [
      "Filename: data/jw02736007001_01_msa.fits\n",
      "No.    Name      Ver    Type      Cards   Dimensions   Format\n",
      "  0  PRIMARY       1 PrimaryHDU      16   ()      \n",
      "  1  SHUTTER_IMAGE    1 ImageHDU         8   (342, 730)   int16   \n",
      "  2  SHUTTER_INFO    1 BinTableHDU     33   1318R x 12C   [I, I, I, I, I, J, 1A, 6A, E, E, I, 1A]   \n",
      "  3  SOURCE_INFO    1 BinTableHDU     25   119R x 8C   [J, J, 20A, 31A, D, D, 30A, D]   \n"
     ]
    }
   ],
   "source": [
    "msa_hdu_list = fits.open(msa_metafile)\n",
    "msa_hdu_list.info()"
   ]
  },
  {
   "cell_type": "code",
   "execution_count": 12,
   "id": "9f062cf0",
   "metadata": {},
   "outputs": [],
   "source": [
    "# Load these tables; we'll inspect and edit them below\n",
    "source_table  = Table(msa_hdu_list['SOURCE_INFO'].data)\n",
    "shutter_table = Table(msa_hdu_list['SHUTTER_INFO'].data)"
   ]
  },
  {
   "cell_type": "code",
   "execution_count": 13,
   "id": "d8cb2318",
   "metadata": {
    "scrolled": false
   },
   "outputs": [
    {
     "data": {
      "text/plain": [
       "SIMPLE  =                    T / conforms to FITS standard                      \n",
       "BITPIX  =                    8 / array data type                                \n",
       "NAXIS   =                    0 / number of array dimensions                     \n",
       "EXTEND  =                    T                                                  \n",
       "ORIGIN  = 'STSCI   '           / institution responsible for creating FITS file \n",
       "TELESCOP= 'JWST    '           / telescope used to acquire data                 \n",
       "INSTRUME= 'NIRSPEC '           / identifier for instrument used to acquire data \n",
       "DATE    = '2022-12-08T02:18:08'                                                 \n",
       "FILENAME= 'jw02736007001_01_msa.fits' / name of file                            \n",
       "PPSDBVER= 'PPSDB95 '           / version of PPS database used                   \n",
       "PROGRAM = '02736   '           / program number                                 \n",
       "VISIT   = '001     '           / visit number                                   \n",
       "OBSERVTN= '007     '           / observation number                             \n",
       "VISIT_ID= '02736007001'        / visit identifier                               \n",
       "MSACFG10=                    1 / base 10 nirspec_msa_at_exposure_spec.msa_config\n",
       "MSACFG36= '01      '           / base 36 version of MSACFG10                    "
      ]
     },
     "execution_count": 13,
     "metadata": {},
     "output_type": "execute_result"
    }
   ],
   "source": [
    "msa_hdu_list['PRIMARY'].header"
   ]
  },
  {
   "cell_type": "code",
   "execution_count": 14,
   "id": "9f84849e",
   "metadata": {},
   "outputs": [
    {
     "data": {
      "text/plain": [
       "'2022-12-08T02:18:08'"
      ]
     },
     "execution_count": 14,
     "metadata": {},
     "output_type": "execute_result"
    }
   ],
   "source": [
    "msa_hdu_list['PRIMARY'].header['DATE']"
   ]
  },
  {
   "cell_type": "code",
   "execution_count": 15,
   "id": "bfdd4ff0",
   "metadata": {},
   "outputs": [],
   "source": [
    "# The datamodel shows the same info in a longer format\n",
    "#from jwst import datamodels\n",
    "#msa_model = datamodels.open(msa_metafile)\n",
    "#msa_model.info(max_rows=99999)"
   ]
  },
  {
   "cell_type": "markdown",
   "id": "17526108",
   "metadata": {},
   "source": [
    "# Source Table\n",
    "\n",
    "The `SOURCE_INFO` table contains information on each source in the input catalog.  \n",
    "\"Virtual\" sources in empty slits are assigned negative numbers, in sequence.  \n",
    "The [source type](https://jwst-pipeline.readthedocs.io/en/latest/jwst/srctype/description.html) \n",
    "is also encoded:\n",
    "* 0.0 <= `stellarity` <= 0.75: extended\n",
    "* otherwise: point source\n",
    "\n",
    ">|SOURCE_INFO| |\n",
    "|:-:|:-|\n",
    "| `PROGRAM` | JWST program ID |   \n",
    "| `SOURCE_ID` |unique integer identifier: positive (real sources) or negative (virtual sources)|   |\n",
    "| `SOURCE_NAME`| typically a combination of the first two columns|\n",
    "| `ALIAS`| either the source ID (real sources) or the RA, Dec (virtual sources) |    |   |\n",
    "| `RA`/`DEC` | catalog source coordinates, in decimal degrees   |   |\n",
    "| `PREIMAGE_ID` | name of NIRCam pre-imaging mosaic used to determine the source catalog, if it exists  |   | \n",
    "|`STELLARITY`| float ranging from 0 (fully extended) to 1 (point source). <br> The pipeline treats 0 <= stellarity <= 0.75 as extended for path loss corrections.|   |  \n",
    "[More Info ...](https://jwst-docs.stsci.edu/jwst-calibration-pipeline-caveats/jwst-nirspec-mos-pipeline-caveats#JWSTNIRSpecMOSPipelineCaveats-msa_metafileMetadataforsourceandslitletinformation)\n",
    ">"
   ]
  },
  {
   "cell_type": "code",
   "execution_count": 16,
   "id": "af010df6",
   "metadata": {
    "scrolled": false
   },
   "outputs": [
    {
     "data": {
      "text/html": [
       "<div><i>Table length=119</i>\n",
       "<table id=\"table5107244624\" class=\"table-striped table-bordered table-condensed\">\n",
       "<thead><tr><th>program</th><th>source_id</th><th>source_name</th><th>alias</th><th>ra</th><th>dec</th><th>preimage_id</th><th>stellarity</th></tr></thead>\n",
       "<thead><tr><th>int32</th><th>int32</th><th>str20</th><th>str31</th><th>float64</th><th>float64</th><th>str30</th><th>float64</th></tr></thead>\n",
       "<tr><td>2736</td><td>-62</td><td>2736_-62</td><td>07:23:51.1052 -73:26:51.57</td><td>110.96293832677276</td><td>-73.44765753038087</td><td>None</td><td>0.0</td></tr>\n",
       "<tr><td>2736</td><td>-61</td><td>2736_-61</td><td>07:23:28.8142 -73:25:52.13</td><td>110.87005912412539</td><td>-73.43114667764434</td><td>None</td><td>0.0</td></tr>\n",
       "<tr><td>2736</td><td>-60</td><td>2736_-60</td><td>07:23:17.7994 -73:25:43.20</td><td>110.82416419252095</td><td>-73.42866585631378</td><td>None</td><td>0.0</td></tr>\n",
       "<tr><td>2736</td><td>-59</td><td>2736_-59</td><td>07:23:37.7429 -73:27:0.58</td><td>110.90726211582383</td><td>-73.45016176434785</td><td>None</td><td>0.0</td></tr>\n",
       "<tr><td>2736</td><td>-58</td><td>2736_-58</td><td>07:23:18.8600 -73:26:4.96</td><td>110.82858331230773</td><td>-73.43471113068318</td><td>None</td><td>0.0</td></tr>\n",
       "<tr><td>2736</td><td>-57</td><td>2736_-57</td><td>07:23:17.1182 -73:26:4.80</td><td>110.82132592002846</td><td>-73.43466605654396</td><td>None</td><td>0.0</td></tr>\n",
       "<tr><td>2736</td><td>-56</td><td>2736_-56</td><td>07:23:15.2432 -73:26:1.05</td><td>110.81351353799377</td><td>-73.43362537508722</td><td>None</td><td>0.0</td></tr>\n",
       "<tr><td>2736</td><td>-55</td><td>2736_-55</td><td>07:23:46.9483 -73:27:57.15</td><td>110.94561802608843</td><td>-73.46587623588209</td><td>None</td><td>0.0</td></tr>\n",
       "<tr><td>2736</td><td>-54</td><td>2736_-54</td><td>07:23:42.4293 -73:27:43.60</td><td>110.92678854842542</td><td>-73.46211224629303</td><td>None</td><td>0.0</td></tr>\n",
       "<tr><td>...</td><td>...</td><td>...</td><td>...</td><td>...</td><td>...</td><td>...</td><td>...</td></tr>\n",
       "<tr><td>2736</td><td>102730</td><td>2736_102730</td><td>102730</td><td>110.9007701407086</td><td>-73.4700816583346</td><td>None</td><td>0.1</td></tr>\n",
       "<tr><td>2736</td><td>102738</td><td>2736_102738</td><td>102738</td><td>110.90147433704173</td><td>-73.47021407783609</td><td>None</td><td>0.1</td></tr>\n",
       "<tr><td>2736</td><td>102744</td><td>2736_102744</td><td>102744</td><td>110.89134754455323</td><td>-73.46994269739287</td><td>None</td><td>0.1</td></tr>\n",
       "<tr><td>2736</td><td>102750</td><td>2736_102750</td><td>102750</td><td>110.87686763718133</td><td>-73.47020869639829</td><td>None</td><td>0.1</td></tr>\n",
       "<tr><td>2736</td><td>102751</td><td>2736_102751</td><td>102751</td><td>110.87757083265876</td><td>-73.47037201587204</td><td>None</td><td>0.1</td></tr>\n",
       "<tr><td>2736</td><td>102798</td><td>2736_102798</td><td>102798</td><td>110.90406361389755</td><td>-73.47104984954171</td><td>None</td><td>0.1</td></tr>\n",
       "<tr><td>2736</td><td>102933</td><td>2736_102933</td><td>102933</td><td>110.91011772399209</td><td>-73.47429641720055</td><td>None</td><td>0.1</td></tr>\n",
       "<tr><td>2736</td><td>102934</td><td>2736_102934</td><td>102934</td><td>110.91709422167149</td><td>-73.47438031040201</td><td>None</td><td>0.1</td></tr>\n",
       "<tr><td>2736</td><td>103091</td><td>2736_103091</td><td>103091</td><td>110.88706682223125</td><td>-73.47797067884915</td><td>None</td><td>0.1</td></tr>\n",
       "<tr><td>2736</td><td>103157</td><td>2736_103157</td><td>103157</td><td>110.86850946258448</td><td>-73.48012426493767</td><td>None</td><td>0.1</td></tr>\n",
       "</table></div>"
      ],
      "text/plain": [
       "<Table length=119>\n",
       "program source_id source_name ...        dec         preimage_id stellarity\n",
       " int32    int32      str20    ...      float64          str30     float64  \n",
       "------- --------- ----------- ... ------------------ ----------- ----------\n",
       "   2736       -62    2736_-62 ... -73.44765753038087        None        0.0\n",
       "   2736       -61    2736_-61 ... -73.43114667764434        None        0.0\n",
       "   2736       -60    2736_-60 ... -73.42866585631378        None        0.0\n",
       "   2736       -59    2736_-59 ... -73.45016176434785        None        0.0\n",
       "   2736       -58    2736_-58 ... -73.43471113068318        None        0.0\n",
       "   2736       -57    2736_-57 ... -73.43466605654396        None        0.0\n",
       "   2736       -56    2736_-56 ... -73.43362537508722        None        0.0\n",
       "   2736       -55    2736_-55 ... -73.46587623588209        None        0.0\n",
       "   2736       -54    2736_-54 ... -73.46211224629303        None        0.0\n",
       "    ...       ...         ... ...                ...         ...        ...\n",
       "   2736    102730 2736_102730 ...  -73.4700816583346        None        0.1\n",
       "   2736    102738 2736_102738 ... -73.47021407783609        None        0.1\n",
       "   2736    102744 2736_102744 ... -73.46994269739287        None        0.1\n",
       "   2736    102750 2736_102750 ... -73.47020869639829        None        0.1\n",
       "   2736    102751 2736_102751 ... -73.47037201587204        None        0.1\n",
       "   2736    102798 2736_102798 ... -73.47104984954171        None        0.1\n",
       "   2736    102933 2736_102933 ... -73.47429641720055        None        0.1\n",
       "   2736    102934 2736_102934 ... -73.47438031040201        None        0.1\n",
       "   2736    103091 2736_103091 ... -73.47797067884915        None        0.1\n",
       "   2736    103157 2736_103157 ... -73.48012426493767        None        0.1"
      ]
     },
     "execution_count": 16,
     "metadata": {},
     "output_type": "execute_result"
    }
   ],
   "source": [
    "source_table"
   ]
  },
  {
   "cell_type": "markdown",
   "id": "7b5bb73e",
   "metadata": {},
   "source": [
    "# Shutter Table\n",
    "\n"
   ]
  },
  {
   "cell_type": "markdown",
   "id": "fd7217f5",
   "metadata": {},
   "source": [
    "The `SHUTTER_INFO` table specifies all the slitlets having one or more open shutters based on the MSA configuration for that observation.  \n",
    "\n",
    ">|SHUTTER_INFO| |\n",
    "|:-:|:-|\n",
    "| `SLITLET_ID` |integer number representing each slitlet of one or more open shutters specified in the MSA configuration|  \n",
    "| `MSA_METADATA_ID` | integer number corresponding to a particular MSA configuration / MPT plan <br> (one metafile may contain multiple MSA configurations)\n",
    "| `SHUTTER_QUADRANT` | MSA quadrant (1,2,3,4) |\n",
    "| `SHUTTER_ROW` | row number decreases in the dispersion direction (transposed wrt science data) |\n",
    "| `SHUTTER_COLUMN` | column number increases in the spatial cross-dispersion direction |\n",
    "|`SOURCE_ID`| unique integer ID for each source in each slitlet, used for matching to the SOURCE_INFO table |\n",
    "|`BACKGROUND`| boolean indicating whether the shutter is open to background (Y) or contains a known source (N) (for a given nod exposure if the observation includes nodding)| \n",
    "|`SHUTTER_STATE`|generally this will always be OPEN, unless a long slit was used |\n",
    "|`ESTIMATED_SOURCE_IN_SHUTTER_X/Y`| the position of the source within the shutter in relative units (where 0,0 is the bottom left corner and 0.5,0.5 is the center), as planned in MPT |\n",
    "|`DITHER_POINT_INDEX`|integer specifying the index of the nod sequence; matches with the data primary header keyword PATT_NUM| \n",
    "|`PRIMARY_SOURCE`|boolean indicating whether the shutter contains the science source|\n",
    "[More Info ...](https://jwst-docs.stsci.edu/jwst-calibration-pipeline-caveats/jwst-nirspec-mos-pipeline-caveats#JWSTNIRSpecMOSPipelineCaveats-msa_metafileMetadataforsourceandslitletinformation)"
   ]
  },
  {
   "cell_type": "code",
   "execution_count": 17,
   "id": "5c29048a",
   "metadata": {},
   "outputs": [
    {
     "data": {
      "text/html": [
       "<div><i>Table length=1318</i>\n",
       "<table id=\"table5107530960\" class=\"table-striped table-bordered table-condensed\">\n",
       "<thead><tr><th>slitlet_id</th><th>msa_metadata_id</th><th>shutter_quadrant</th><th>shutter_row</th><th>shutter_column</th><th>source_id</th><th>background</th><th>shutter_state</th><th>estimated_source_in_shutter_x</th><th>estimated_source_in_shutter_y</th><th>dither_point_index</th><th>primary_source</th></tr></thead>\n",
       "<thead><tr><th>int16</th><th>int16</th><th>int16</th><th>int16</th><th>int16</th><th>int32</th><th>str1</th><th>str6</th><th>float32</th><th>float32</th><th>int16</th><th>str1</th></tr></thead>\n",
       "<tr><td>2</td><td>1</td><td>2</td><td>67</td><td>50</td><td>-1</td><td>Y</td><td>OPEN</td><td>nan</td><td>nan</td><td>1</td><td>N</td></tr>\n",
       "<tr><td>2</td><td>1</td><td>2</td><td>67</td><td>50</td><td>-1</td><td>N</td><td>OPEN</td><td>0.5128208</td><td>0.49434295</td><td>2</td><td>Y</td></tr>\n",
       "<tr><td>2</td><td>1</td><td>2</td><td>67</td><td>50</td><td>0</td><td>Y</td><td>OPEN</td><td>nan</td><td>nan</td><td>3</td><td>N</td></tr>\n",
       "<tr><td>2</td><td>1</td><td>2</td><td>67</td><td>51</td><td>-1</td><td>N</td><td>OPEN</td><td>0.5002731</td><td>0.49997795</td><td>1</td><td>Y</td></tr>\n",
       "<tr><td>2</td><td>1</td><td>2</td><td>67</td><td>51</td><td>-1</td><td>Y</td><td>OPEN</td><td>nan</td><td>nan</td><td>2</td><td>N</td></tr>\n",
       "<tr><td>2</td><td>1</td><td>2</td><td>67</td><td>51</td><td>0</td><td>Y</td><td>OPEN</td><td>nan</td><td>nan</td><td>3</td><td>N</td></tr>\n",
       "<tr><td>2</td><td>76</td><td>2</td><td>67</td><td>50</td><td>-32</td><td>Y</td><td>OPEN</td><td>nan</td><td>nan</td><td>1</td><td>N</td></tr>\n",
       "<tr><td>2</td><td>76</td><td>2</td><td>67</td><td>50</td><td>-32</td><td>N</td><td>OPEN</td><td>0.5128208</td><td>0.49434295</td><td>2</td><td>Y</td></tr>\n",
       "<tr><td>2</td><td>76</td><td>2</td><td>67</td><td>50</td><td>0</td><td>Y</td><td>OPEN</td><td>nan</td><td>nan</td><td>3</td><td>N</td></tr>\n",
       "<tr><td>...</td><td>...</td><td>...</td><td>...</td><td>...</td><td>...</td><td>...</td><td>...</td><td>...</td><td>...</td><td>...</td><td>...</td></tr>\n",
       "<tr><td>75</td><td>1</td><td>4</td><td>293</td><td>75</td><td>0</td><td>Y</td><td>OPEN</td><td>nan</td><td>nan</td><td>3</td><td>N</td></tr>\n",
       "<tr><td>75</td><td>1</td><td>4</td><td>293</td><td>76</td><td>-31</td><td>N</td><td>OPEN</td><td>0.49962592</td><td>0.49983388</td><td>1</td><td>Y</td></tr>\n",
       "<tr><td>75</td><td>1</td><td>4</td><td>293</td><td>76</td><td>-31</td><td>Y</td><td>OPEN</td><td>nan</td><td>nan</td><td>2</td><td>N</td></tr>\n",
       "<tr><td>75</td><td>1</td><td>4</td><td>293</td><td>76</td><td>0</td><td>Y</td><td>OPEN</td><td>nan</td><td>nan</td><td>3</td><td>N</td></tr>\n",
       "<tr><td>75</td><td>76</td><td>4</td><td>293</td><td>75</td><td>-62</td><td>Y</td><td>OPEN</td><td>nan</td><td>nan</td><td>1</td><td>N</td></tr>\n",
       "<tr><td>75</td><td>76</td><td>4</td><td>293</td><td>75</td><td>-62</td><td>N</td><td>OPEN</td><td>0.49123687</td><td>0.4898303</td><td>2</td><td>Y</td></tr>\n",
       "<tr><td>75</td><td>76</td><td>4</td><td>293</td><td>75</td><td>0</td><td>Y</td><td>OPEN</td><td>nan</td><td>nan</td><td>3</td><td>N</td></tr>\n",
       "<tr><td>75</td><td>76</td><td>4</td><td>293</td><td>76</td><td>-62</td><td>N</td><td>OPEN</td><td>0.49962592</td><td>0.49983388</td><td>1</td><td>Y</td></tr>\n",
       "<tr><td>75</td><td>76</td><td>4</td><td>293</td><td>76</td><td>-62</td><td>Y</td><td>OPEN</td><td>nan</td><td>nan</td><td>2</td><td>N</td></tr>\n",
       "<tr><td>75</td><td>76</td><td>4</td><td>293</td><td>76</td><td>0</td><td>Y</td><td>OPEN</td><td>nan</td><td>nan</td><td>3</td><td>N</td></tr>\n",
       "</table></div>"
      ],
      "text/plain": [
       "<Table length=1318>\n",
       "slitlet_id msa_metadata_id ... dither_point_index primary_source\n",
       "  int16         int16      ...       int16             str1     \n",
       "---------- --------------- ... ------------------ --------------\n",
       "         2               1 ...                  1              N\n",
       "         2               1 ...                  2              Y\n",
       "         2               1 ...                  3              N\n",
       "         2               1 ...                  1              Y\n",
       "         2               1 ...                  2              N\n",
       "         2               1 ...                  3              N\n",
       "         2              76 ...                  1              N\n",
       "         2              76 ...                  2              Y\n",
       "         2              76 ...                  3              N\n",
       "       ...             ... ...                ...            ...\n",
       "        75               1 ...                  3              N\n",
       "        75               1 ...                  1              Y\n",
       "        75               1 ...                  2              N\n",
       "        75               1 ...                  3              N\n",
       "        75              76 ...                  1              N\n",
       "        75              76 ...                  2              Y\n",
       "        75              76 ...                  3              N\n",
       "        75              76 ...                  1              Y\n",
       "        75              76 ...                  2              N\n",
       "        75              76 ...                  3              N"
      ]
     },
     "execution_count": 17,
     "metadata": {},
     "output_type": "execute_result"
    }
   ],
   "source": [
    "shutter_table"
   ]
  },
  {
   "cell_type": "code",
   "execution_count": 18,
   "id": "5489459a",
   "metadata": {},
   "outputs": [
    {
     "data": {
      "text/plain": [
       "[1, 76]"
      ]
     },
     "execution_count": 18,
     "metadata": {},
     "output_type": "execute_result"
    }
   ],
   "source": [
    "# multiple MSA configurations are often defined in a single file\n",
    "msa_metadata_ids = list(set(shutter_table['msa_metadata_id']))\n",
    "msa_metadata_ids"
   ]
  },
  {
   "cell_type": "code",
   "execution_count": 19,
   "id": "80ff1c53",
   "metadata": {},
   "outputs": [
    {
     "data": {
      "text/plain": [
       "array([ 2,  3,  4,  5,  6,  7,  8,  9, 10, 11, 12, 13, 14, 15, 16, 17, 18,\n",
       "       19, 20, 21, 22, 23, 24, 25, 26, 27, 28, 29, 30, 31, 32, 33, 34, 35,\n",
       "       36, 37, 38, 39, 40, 41, 42, 43, 44, 45, 46, 47, 48, 49, 50, 51, 52,\n",
       "       53, 54, 55, 56, 57, 58, 59, 60, 61, 62, 63, 64, 65, 66, 67, 68, 69,\n",
       "       70, 71, 72, 73, 74, 75], dtype=int16)"
      ]
     },
     "execution_count": 19,
     "metadata": {},
     "output_type": "execute_result"
    }
   ],
   "source": [
    "# MSA metadata ids and slitlet ids are all numbered sequentially, picking up where the other left off\n",
    "# Here, after the first metadata id 1, the slitlets are numbered 2 – 75, followed by the next metadata id 76\n",
    "slitlet_ids = np.sort(list(set(shutter_table['slitlet_id'])))\n",
    "slitlet_ids"
   ]
  },
  {
   "cell_type": "code",
   "execution_count": 20,
   "id": "d6aae5b7",
   "metadata": {},
   "outputs": [
    {
     "data": {
      "text/html": [
       "<div><i>Table length=217</i>\n",
       "<table id=\"table5107389008\" class=\"table-striped table-bordered table-condensed\">\n",
       "<thead><tr><th>slitlet_id</th><th>msa_metadata_id</th><th>shutter_quadrant</th><th>shutter_row</th><th>shutter_column</th><th>source_id</th><th>background</th><th>shutter_state</th><th>estimated_source_in_shutter_x</th><th>estimated_source_in_shutter_y</th><th>dither_point_index</th><th>primary_source</th></tr></thead>\n",
       "<thead><tr><th>int16</th><th>int16</th><th>int16</th><th>int16</th><th>int16</th><th>int32</th><th>str1</th><th>str6</th><th>float32</th><th>float32</th><th>int16</th><th>str1</th></tr></thead>\n",
       "<tr><td>2</td><td>1</td><td>2</td><td>67</td><td>50</td><td>-1</td><td>Y</td><td>OPEN</td><td>nan</td><td>nan</td><td>1</td><td>N</td></tr>\n",
       "<tr><td>2</td><td>1</td><td>2</td><td>67</td><td>51</td><td>-1</td><td>N</td><td>OPEN</td><td>0.5002731</td><td>0.49997795</td><td>1</td><td>Y</td></tr>\n",
       "<tr><td>3</td><td>1</td><td>2</td><td>84</td><td>85</td><td>-2</td><td>N</td><td>OPEN</td><td>0.50021464</td><td>0.5000087</td><td>1</td><td>Y</td></tr>\n",
       "<tr><td>4</td><td>1</td><td>1</td><td>86</td><td>159</td><td>-3</td><td>Y</td><td>OPEN</td><td>nan</td><td>nan</td><td>1</td><td>N</td></tr>\n",
       "<tr><td>4</td><td>1</td><td>1</td><td>86</td><td>160</td><td>-3</td><td>N</td><td>OPEN</td><td>0.49981627</td><td>0.499644</td><td>1</td><td>Y</td></tr>\n",
       "<tr><td>5</td><td>1</td><td>2</td><td>88</td><td>56</td><td>-4</td><td>N</td><td>OPEN</td><td>0.5003102</td><td>0.4999598</td><td>1</td><td>Y</td></tr>\n",
       "<tr><td>6</td><td>1</td><td>1</td><td>94</td><td>149</td><td>-5</td><td>N</td><td>OPEN</td><td>0.49975815</td><td>0.49966425</td><td>1</td><td>Y</td></tr>\n",
       "<tr><td>7</td><td>1</td><td>1</td><td>103</td><td>129</td><td>-6</td><td>Y</td><td>OPEN</td><td>nan</td><td>nan</td><td>1</td><td>N</td></tr>\n",
       "<tr><td>7</td><td>1</td><td>1</td><td>103</td><td>130</td><td>-6</td><td>N</td><td>OPEN</td><td>0.4996756</td><td>0.49972537</td><td>1</td><td>Y</td></tr>\n",
       "<tr><td>...</td><td>...</td><td>...</td><td>...</td><td>...</td><td>...</td><td>...</td><td>...</td><td>...</td><td>...</td><td>...</td><td>...</td></tr>\n",
       "<tr><td>72</td><td>1</td><td>3</td><td>138</td><td>83</td><td>6355</td><td>Y</td><td>OPEN</td><td>nan</td><td>nan</td><td>1</td><td>N</td></tr>\n",
       "<tr><td>72</td><td>1</td><td>3</td><td>138</td><td>84</td><td>6355</td><td>N</td><td>OPEN</td><td>0.46437824</td><td>0.86562544</td><td>1</td><td>Y</td></tr>\n",
       "<tr><td>72</td><td>1</td><td>3</td><td>138</td><td>85</td><td>6355</td><td>Y</td><td>OPEN</td><td>nan</td><td>nan</td><td>1</td><td>N</td></tr>\n",
       "<tr><td>72</td><td>1</td><td>3</td><td>138</td><td>86</td><td>6355</td><td>Y</td><td>OPEN</td><td>nan</td><td>nan</td><td>1</td><td>N</td></tr>\n",
       "<tr><td>72</td><td>1</td><td>3</td><td>138</td><td>87</td><td>6355</td><td>Y</td><td>OPEN</td><td>nan</td><td>nan</td><td>1</td><td>N</td></tr>\n",
       "<tr><td>73</td><td>1</td><td>3</td><td>155</td><td>26</td><td>-29</td><td>Y</td><td>OPEN</td><td>nan</td><td>nan</td><td>1</td><td>N</td></tr>\n",
       "<tr><td>73</td><td>1</td><td>3</td><td>155</td><td>27</td><td>-29</td><td>N</td><td>OPEN</td><td>0.49997738</td><td>0.49982515</td><td>1</td><td>Y</td></tr>\n",
       "<tr><td>74</td><td>1</td><td>3</td><td>240</td><td>106</td><td>-30</td><td>N</td><td>OPEN</td><td>0.50024664</td><td>0.4999294</td><td>1</td><td>Y</td></tr>\n",
       "<tr><td>75</td><td>1</td><td>4</td><td>293</td><td>75</td><td>-31</td><td>Y</td><td>OPEN</td><td>nan</td><td>nan</td><td>1</td><td>N</td></tr>\n",
       "<tr><td>75</td><td>1</td><td>4</td><td>293</td><td>76</td><td>-31</td><td>N</td><td>OPEN</td><td>0.49962592</td><td>0.49983388</td><td>1</td><td>Y</td></tr>\n",
       "</table></div>"
      ],
      "text/plain": [
       "<Table length=217>\n",
       "slitlet_id msa_metadata_id ... dither_point_index primary_source\n",
       "  int16         int16      ...       int16             str1     \n",
       "---------- --------------- ... ------------------ --------------\n",
       "         2               1 ...                  1              N\n",
       "         2               1 ...                  1              Y\n",
       "         3               1 ...                  1              Y\n",
       "         4               1 ...                  1              N\n",
       "         4               1 ...                  1              Y\n",
       "         5               1 ...                  1              Y\n",
       "         6               1 ...                  1              Y\n",
       "         7               1 ...                  1              N\n",
       "         7               1 ...                  1              Y\n",
       "       ...             ... ...                ...            ...\n",
       "        72               1 ...                  1              N\n",
       "        72               1 ...                  1              Y\n",
       "        72               1 ...                  1              N\n",
       "        72               1 ...                  1              N\n",
       "        72               1 ...                  1              N\n",
       "        73               1 ...                  1              N\n",
       "        73               1 ...                  1              Y\n",
       "        74               1 ...                  1              Y\n",
       "        75               1 ...                  1              N\n",
       "        75               1 ...                  1              Y"
      ]
     },
     "execution_count": 20,
     "metadata": {},
     "output_type": "execute_result"
    }
   ],
   "source": [
    "shutter_table_dither1 = filter_table(shutter_table, msa_metadata_id=1, dither_point_index=1)\n",
    "shutter_table_dither1"
   ]
  },
  {
   "cell_type": "markdown",
   "id": "7ff1b50e-475b-4f12-ad7b-adfaa32281f0",
   "metadata": {},
   "source": [
    "# Trim MSA metafile to subset of objects"
   ]
  },
  {
   "cell_type": "code",
   "execution_count": 21,
   "id": "6c897a92",
   "metadata": {},
   "outputs": [],
   "source": [
    "select_source_ids = 6355, 5144, 4590, 10612, 8140, 9922  # featured high-z galaxies\n",
    "#select_source_ids = -8, -9, -11, -12, -13, -16, -26, -27, -28, -29, -38, -41, -43, -57, -58, -59  # empty backgrounds?\n",
    "#select_source_ids = -46,"
   ]
  },
  {
   "cell_type": "code",
   "execution_count": 22,
   "id": "09fe5bfe",
   "metadata": {},
   "outputs": [
    {
     "data": {
      "text/html": [
       "<div><i>Table length=119</i>\n",
       "<table id=\"table5107244624\" class=\"table-striped table-bordered table-condensed\">\n",
       "<thead><tr><th>program</th><th>source_id</th><th>source_name</th><th>alias</th><th>ra</th><th>dec</th><th>preimage_id</th><th>stellarity</th></tr></thead>\n",
       "<thead><tr><th>int32</th><th>int32</th><th>str20</th><th>str31</th><th>float64</th><th>float64</th><th>str30</th><th>float64</th></tr></thead>\n",
       "<tr><td>2736</td><td>-62</td><td>2736_-62</td><td>07:23:51.1052 -73:26:51.57</td><td>110.96293832677276</td><td>-73.44765753038087</td><td>None</td><td>1.0</td></tr>\n",
       "<tr><td>2736</td><td>-61</td><td>2736_-61</td><td>07:23:28.8142 -73:25:52.13</td><td>110.87005912412539</td><td>-73.43114667764434</td><td>None</td><td>1.0</td></tr>\n",
       "<tr><td>2736</td><td>-60</td><td>2736_-60</td><td>07:23:17.7994 -73:25:43.20</td><td>110.82416419252095</td><td>-73.42866585631378</td><td>None</td><td>1.0</td></tr>\n",
       "<tr><td>2736</td><td>-59</td><td>2736_-59</td><td>07:23:37.7429 -73:27:0.58</td><td>110.90726211582383</td><td>-73.45016176434785</td><td>None</td><td>1.0</td></tr>\n",
       "<tr><td>2736</td><td>-58</td><td>2736_-58</td><td>07:23:18.8600 -73:26:4.96</td><td>110.82858331230773</td><td>-73.43471113068318</td><td>None</td><td>1.0</td></tr>\n",
       "<tr><td>2736</td><td>-57</td><td>2736_-57</td><td>07:23:17.1182 -73:26:4.80</td><td>110.82132592002846</td><td>-73.43466605654396</td><td>None</td><td>1.0</td></tr>\n",
       "<tr><td>2736</td><td>-56</td><td>2736_-56</td><td>07:23:15.2432 -73:26:1.05</td><td>110.81351353799377</td><td>-73.43362537508722</td><td>None</td><td>1.0</td></tr>\n",
       "<tr><td>2736</td><td>-55</td><td>2736_-55</td><td>07:23:46.9483 -73:27:57.15</td><td>110.94561802608843</td><td>-73.46587623588209</td><td>None</td><td>1.0</td></tr>\n",
       "<tr><td>2736</td><td>-54</td><td>2736_-54</td><td>07:23:42.4293 -73:27:43.60</td><td>110.92678854842542</td><td>-73.46211224629303</td><td>None</td><td>1.0</td></tr>\n",
       "<tr><td>...</td><td>...</td><td>...</td><td>...</td><td>...</td><td>...</td><td>...</td><td>...</td></tr>\n",
       "<tr><td>2736</td><td>102730</td><td>2736_102730</td><td>102730</td><td>110.9007701407086</td><td>-73.4700816583346</td><td>None</td><td>1.0</td></tr>\n",
       "<tr><td>2736</td><td>102738</td><td>2736_102738</td><td>102738</td><td>110.90147433704173</td><td>-73.47021407783609</td><td>None</td><td>1.0</td></tr>\n",
       "<tr><td>2736</td><td>102744</td><td>2736_102744</td><td>102744</td><td>110.89134754455323</td><td>-73.46994269739287</td><td>None</td><td>1.0</td></tr>\n",
       "<tr><td>2736</td><td>102750</td><td>2736_102750</td><td>102750</td><td>110.87686763718133</td><td>-73.47020869639829</td><td>None</td><td>1.0</td></tr>\n",
       "<tr><td>2736</td><td>102751</td><td>2736_102751</td><td>102751</td><td>110.87757083265876</td><td>-73.47037201587204</td><td>None</td><td>1.0</td></tr>\n",
       "<tr><td>2736</td><td>102798</td><td>2736_102798</td><td>102798</td><td>110.90406361389755</td><td>-73.47104984954171</td><td>None</td><td>1.0</td></tr>\n",
       "<tr><td>2736</td><td>102933</td><td>2736_102933</td><td>102933</td><td>110.91011772399209</td><td>-73.47429641720055</td><td>None</td><td>1.0</td></tr>\n",
       "<tr><td>2736</td><td>102934</td><td>2736_102934</td><td>102934</td><td>110.91709422167149</td><td>-73.47438031040201</td><td>None</td><td>1.0</td></tr>\n",
       "<tr><td>2736</td><td>103091</td><td>2736_103091</td><td>103091</td><td>110.88706682223125</td><td>-73.47797067884915</td><td>None</td><td>1.0</td></tr>\n",
       "<tr><td>2736</td><td>103157</td><td>2736_103157</td><td>103157</td><td>110.86850946258448</td><td>-73.48012426493767</td><td>None</td><td>1.0</td></tr>\n",
       "</table></div>"
      ],
      "text/plain": [
       "<Table length=119>\n",
       "program source_id source_name ...        dec         preimage_id stellarity\n",
       " int32    int32      str20    ...      float64          str30     float64  \n",
       "------- --------- ----------- ... ------------------ ----------- ----------\n",
       "   2736       -62    2736_-62 ... -73.44765753038087        None        1.0\n",
       "   2736       -61    2736_-61 ... -73.43114667764434        None        1.0\n",
       "   2736       -60    2736_-60 ... -73.42866585631378        None        1.0\n",
       "   2736       -59    2736_-59 ... -73.45016176434785        None        1.0\n",
       "   2736       -58    2736_-58 ... -73.43471113068318        None        1.0\n",
       "   2736       -57    2736_-57 ... -73.43466605654396        None        1.0\n",
       "   2736       -56    2736_-56 ... -73.43362537508722        None        1.0\n",
       "   2736       -55    2736_-55 ... -73.46587623588209        None        1.0\n",
       "   2736       -54    2736_-54 ... -73.46211224629303        None        1.0\n",
       "    ...       ...         ... ...                ...         ...        ...\n",
       "   2736    102730 2736_102730 ...  -73.4700816583346        None        1.0\n",
       "   2736    102738 2736_102738 ... -73.47021407783609        None        1.0\n",
       "   2736    102744 2736_102744 ... -73.46994269739287        None        1.0\n",
       "   2736    102750 2736_102750 ... -73.47020869639829        None        1.0\n",
       "   2736    102751 2736_102751 ... -73.47037201587204        None        1.0\n",
       "   2736    102798 2736_102798 ... -73.47104984954171        None        1.0\n",
       "   2736    102933 2736_102933 ... -73.47429641720055        None        1.0\n",
       "   2736    102934 2736_102934 ... -73.47438031040201        None        1.0\n",
       "   2736    103091 2736_103091 ... -73.47797067884915        None        1.0\n",
       "   2736    103157 2736_103157 ... -73.48012426493767        None        1.0"
      ]
     },
     "execution_count": 22,
     "metadata": {},
     "output_type": "execute_result"
    }
   ],
   "source": [
    "select_source_table = source_table\n",
    "#select_source_table = filter_table(source_table, source_id=select_source_ids)\n",
    "select_source_table['stellarity'] = 1  # 0 = extended; 1 = point source\n",
    "select_source_table"
   ]
  },
  {
   "cell_type": "code",
   "execution_count": 23,
   "id": "c3db7363",
   "metadata": {},
   "outputs": [
    {
     "data": {
      "text/html": [
       "<div><i>Table length=24</i>\n",
       "<table id=\"table5107633936\" class=\"table-striped table-bordered table-condensed\">\n",
       "<thead><tr><th>slitlet_id</th><th>msa_metadata_id</th><th>shutter_quadrant</th><th>shutter_row</th><th>shutter_column</th><th>source_id</th><th>background</th><th>shutter_state</th><th>estimated_source_in_shutter_x</th><th>estimated_source_in_shutter_y</th><th>dither_point_index</th><th>primary_source</th></tr></thead>\n",
       "<thead><tr><th>int16</th><th>int16</th><th>int16</th><th>int16</th><th>int16</th><th>int32</th><th>str1</th><th>str6</th><th>float32</th><th>float32</th><th>int16</th><th>str1</th></tr></thead>\n",
       "<tr><td>16</td><td>1</td><td>1</td><td>173</td><td>113</td><td>8140</td><td>Y</td><td>OPEN</td><td>nan</td><td>nan</td><td>1</td><td>N</td></tr>\n",
       "<tr><td>16</td><td>1</td><td>1</td><td>173</td><td>114</td><td>8140</td><td>N</td><td>OPEN</td><td>0.6575784</td><td>0.36736715</td><td>1</td><td>Y</td></tr>\n",
       "<tr><td>16</td><td>1</td><td>1</td><td>173</td><td>115</td><td>8140</td><td>Y</td><td>OPEN</td><td>nan</td><td>nan</td><td>1</td><td>N</td></tr>\n",
       "<tr><td>51</td><td>1</td><td>3</td><td>19</td><td>117</td><td>5144</td><td>Y</td><td>OPEN</td><td>nan</td><td>nan</td><td>1</td><td>N</td></tr>\n",
       "<tr><td>51</td><td>1</td><td>3</td><td>19</td><td>118</td><td>5144</td><td>Y</td><td>OPEN</td><td>nan</td><td>nan</td><td>1</td><td>N</td></tr>\n",
       "<tr><td>51</td><td>1</td><td>3</td><td>19</td><td>119</td><td>5144</td><td>Y</td><td>OPEN</td><td>nan</td><td>nan</td><td>1</td><td>N</td></tr>\n",
       "<tr><td>51</td><td>1</td><td>3</td><td>19</td><td>120</td><td>5144</td><td>Y</td><td>OPEN</td><td>nan</td><td>nan</td><td>1</td><td>N</td></tr>\n",
       "<tr><td>51</td><td>1</td><td>3</td><td>19</td><td>121</td><td>5144</td><td>N</td><td>OPEN</td><td>0.51558393</td><td>0.08815128</td><td>1</td><td>Y</td></tr>\n",
       "<tr><td>51</td><td>1</td><td>3</td><td>19</td><td>122</td><td>5144</td><td>Y</td><td>OPEN</td><td>nan</td><td>nan</td><td>1</td><td>N</td></tr>\n",
       "<tr><td>...</td><td>...</td><td>...</td><td>...</td><td>...</td><td>...</td><td>...</td><td>...</td><td>...</td><td>...</td><td>...</td><td>...</td></tr>\n",
       "<tr><td>64</td><td>1</td><td>3</td><td>79</td><td>146</td><td>9922</td><td>N</td><td>OPEN</td><td>0.85808</td><td>0.31997517</td><td>1</td><td>Y</td></tr>\n",
       "<tr><td>64</td><td>1</td><td>3</td><td>79</td><td>147</td><td>9922</td><td>Y</td><td>OPEN</td><td>nan</td><td>nan</td><td>1</td><td>N</td></tr>\n",
       "<tr><td>69</td><td>1</td><td>3</td><td>118</td><td>65</td><td>10612</td><td>Y</td><td>OPEN</td><td>nan</td><td>nan</td><td>1</td><td>N</td></tr>\n",
       "<tr><td>69</td><td>1</td><td>3</td><td>118</td><td>66</td><td>10612</td><td>N</td><td>OPEN</td><td>0.41012216</td><td>0.73281765</td><td>1</td><td>Y</td></tr>\n",
       "<tr><td>69</td><td>1</td><td>3</td><td>118</td><td>67</td><td>10612</td><td>Y</td><td>OPEN</td><td>nan</td><td>nan</td><td>1</td><td>N</td></tr>\n",
       "<tr><td>72</td><td>1</td><td>3</td><td>138</td><td>83</td><td>6355</td><td>Y</td><td>OPEN</td><td>nan</td><td>nan</td><td>1</td><td>N</td></tr>\n",
       "<tr><td>72</td><td>1</td><td>3</td><td>138</td><td>84</td><td>6355</td><td>N</td><td>OPEN</td><td>0.46437824</td><td>0.86562544</td><td>1</td><td>Y</td></tr>\n",
       "<tr><td>72</td><td>1</td><td>3</td><td>138</td><td>85</td><td>6355</td><td>Y</td><td>OPEN</td><td>nan</td><td>nan</td><td>1</td><td>N</td></tr>\n",
       "<tr><td>72</td><td>1</td><td>3</td><td>138</td><td>86</td><td>6355</td><td>Y</td><td>OPEN</td><td>nan</td><td>nan</td><td>1</td><td>N</td></tr>\n",
       "<tr><td>72</td><td>1</td><td>3</td><td>138</td><td>87</td><td>6355</td><td>Y</td><td>OPEN</td><td>nan</td><td>nan</td><td>1</td><td>N</td></tr>\n",
       "</table></div>"
      ],
      "text/plain": [
       "<Table length=24>\n",
       "slitlet_id msa_metadata_id ... dither_point_index primary_source\n",
       "  int16         int16      ...       int16             str1     \n",
       "---------- --------------- ... ------------------ --------------\n",
       "        16               1 ...                  1              N\n",
       "        16               1 ...                  1              Y\n",
       "        16               1 ...                  1              N\n",
       "        51               1 ...                  1              N\n",
       "        51               1 ...                  1              N\n",
       "        51               1 ...                  1              N\n",
       "        51               1 ...                  1              N\n",
       "        51               1 ...                  1              Y\n",
       "        51               1 ...                  1              N\n",
       "       ...             ... ...                ...            ...\n",
       "        64               1 ...                  1              Y\n",
       "        64               1 ...                  1              N\n",
       "        69               1 ...                  1              N\n",
       "        69               1 ...                  1              Y\n",
       "        69               1 ...                  1              N\n",
       "        72               1 ...                  1              N\n",
       "        72               1 ...                  1              Y\n",
       "        72               1 ...                  1              N\n",
       "        72               1 ...                  1              N\n",
       "        72               1 ...                  1              N"
      ]
     },
     "execution_count": 23,
     "metadata": {},
     "output_type": "execute_result"
    }
   ],
   "source": [
    "select_shutter_table = filter_table(shutter_table, source_id=select_source_ids)\n",
    "\n",
    "# Show contents but just for the first config and dither\n",
    "filter_table(select_shutter_table, msa_metadata_id=1, dither_point_index=1)"
   ]
  },
  {
   "cell_type": "code",
   "execution_count": 24,
   "id": "609ca9d9",
   "metadata": {},
   "outputs": [],
   "source": [
    "# Can edit further if desired, for example for master background\n",
    "if 0:\n",
    "    # Master Background\n",
    "    select_shutter_table['background']     = 'Y'\n",
    "    select_shutter_table['primary_source'] = 'N'\n",
    "\n",
    "    # Show contents but just for the first config and dither\n",
    "    filter_table(select_shutter_table, msa_metadata_id=1, dither_point_index=1)"
   ]
  },
  {
   "cell_type": "markdown",
   "id": "38e0163b",
   "metadata": {},
   "source": [
    "## Save modified MSA metafile"
   ]
  },
  {
   "cell_type": "code",
   "execution_count": 25,
   "id": "a79a7df5-7fdb-4d08-b451-e3252843af81",
   "metadata": {},
   "outputs": [
    {
     "data": {
      "text/plain": [
       "'reprocess_subset/jw02736007001_01_msa.fits'"
      ]
     },
     "execution_count": 25,
     "metadata": {},
     "output_type": "execute_result"
    }
   ],
   "source": [
    "output_dir = 'reprocess_subset'\n",
    "os.makedirs(output_dir, exist_ok=True)\n",
    "\n",
    "output_msa_metafile = os.path.join(output_dir, msa_metafile_name)\n",
    "output_msa_metafile"
   ]
  },
  {
   "cell_type": "code",
   "execution_count": 26,
   "id": "5480835f-0063-47a1-b11e-47a2d28206a2",
   "metadata": {},
   "outputs": [
    {
     "name": "stdout",
     "output_type": "stream",
     "text": [
      "Filename: data/jw02736007001_01_msa.fits\n",
      "No.    Name      Ver    Type      Cards   Dimensions   Format\n",
      "  0  PRIMARY       1 PrimaryHDU      16   ()      \n",
      "  1  SHUTTER_IMAGE    1 ImageHDU         8   (342, 730)   int16   \n",
      "  2  SHUTTER_INFO    1 BinTableHDU     33   1318R x 12C   ['I', 'I', 'I', 'I', 'I', 'J', '1A', '6A', 'E', 'E', 'I', '1A']   \n",
      "  3  SOURCE_INFO    1 BinTableHDU     25   119R x 8C   ['J', 'J', '20A', '31A', 'D', 'D', '30A', 'D']   \n"
     ]
    }
   ],
   "source": [
    "msa_hdu_list.info()"
   ]
  },
  {
   "cell_type": "code",
   "execution_count": 27,
   "id": "a32c0865-55cf-477d-a51a-ca558d79e2d1",
   "metadata": {},
   "outputs": [
    {
     "name": "stdout",
     "output_type": "stream",
     "text": [
      "Filename: data/jw02736007001_01_msa.fits\n",
      "No.    Name      Ver    Type      Cards   Dimensions   Format\n",
      "  0  PRIMARY       1 PrimaryHDU      16   ()      \n",
      "  1  SHUTTER_IMAGE    1 ImageHDU         8   (342, 730)   int16   \n",
      "  2  SHUTTER_INFO    1 BinTableHDU     33   144R x 12C   ['I', 'I', 'I', 'I', 'I', 'J', '1A', '6A', 'E', 'E', 'I', '1A']   \n",
      "  3  SOURCE_INFO    1 BinTableHDU     25   119R x 8C   ['J', 'J', '20A', '31A', 'D', 'D', '30A', 'D']   \n"
     ]
    }
   ],
   "source": [
    "msa_hdu_list['SHUTTER_INFO'] = fits.table_to_hdu(select_shutter_table)\n",
    "msa_hdu_list['SOURCE_INFO']  = fits.table_to_hdu(select_source_table)\n",
    "\n",
    "msa_hdu_list[2].name = 'SHUTTER_INFO'\n",
    "msa_hdu_list[3].name = 'SOURCE_INFO'\n",
    "\n",
    "msa_hdu_list.info()"
   ]
  },
  {
   "cell_type": "code",
   "execution_count": 28,
   "id": "b38698ab-d399-446c-8051-98a52abbc1b8",
   "metadata": {},
   "outputs": [
    {
     "name": "stdout",
     "output_type": "stream",
     "text": [
      "SAVING reprocess_subset/jw02736007001_01_msa.fits\n"
     ]
    }
   ],
   "source": [
    "print('SAVING', output_msa_metafile)\n",
    "msa_hdu_list.writeto(output_msa_metafile, overwrite=True)\n",
    "#msa_hdu_list.close()  # let's keep this open to use below"
   ]
  },
  {
   "cell_type": "markdown",
   "id": "fd4a0815",
   "metadata": {},
   "source": [
    "# Link to files in preparation for pipeline\n",
    "\n",
    "We won't run the pipeline in this notebook, but this shows you how to prepare.  \n",
    "When you run the pipeline on these linked files in this new directory, it will find the updated metafile there."
   ]
  },
  {
   "cell_type": "code",
   "execution_count": 29,
   "id": "d07ec921",
   "metadata": {},
   "outputs": [
    {
     "name": "stdout",
     "output_type": "stream",
     "text": [
      "reprocess_subset/jw02736007001_03103_00001_nrs1_rate.fits -> data/jw02736007001_03103_00001_nrs1_rate.fits\n",
      "reprocess_subset/jw02736007001_03103_00001_nrs2_rate.fits -> data/jw02736007001_03103_00001_nrs2_rate.fits\n",
      "reprocess_subset/jw02736007001_03103_00002_nrs1_rate.fits -> data/jw02736007001_03103_00002_nrs1_rate.fits\n",
      "reprocess_subset/jw02736007001_03103_00002_nrs2_rate.fits -> data/jw02736007001_03103_00002_nrs2_rate.fits\n",
      "reprocess_subset/jw02736007001_03103_00003_nrs1_rate.fits -> data/jw02736007001_03103_00003_nrs1_rate.fits\n",
      "reprocess_subset/jw02736007001_03103_00003_nrs2_rate.fits -> data/jw02736007001_03103_00003_nrs2_rate.fits\n",
      "reprocess_subset/jw02736008001_03103_00003_nrs2_rate.fits -> data/jw02736008001_03103_00003_nrs2_rate.fits\n"
     ]
    }
   ],
   "source": [
    "rate_files = sorted(glob(os.path.join(data_dir, '*_rate.fits*')))\n",
    "link_to_files(rate_files, output_dir)"
   ]
  },
  {
   "cell_type": "code",
   "execution_count": 30,
   "id": "4d8fab61",
   "metadata": {},
   "outputs": [],
   "source": [
    "asn_files = sorted(glob(os.path.join(data_dir, '*_asn.json')))\n",
    "link_to_files(asn_files, output_dir)"
   ]
  },
  {
   "cell_type": "markdown",
   "id": "333cfd8b",
   "metadata": {},
   "source": [
    "# Shutter Image\n",
    "\n",
    "Translate shutter (column, row) coordinates from the MSA metafile to the observed coordinate system as shown in APT.\n",
    "\n",
    "The MSA coordinate system is shown on JDox:  \n",
    "https://jwst-docs.stsci.edu/jwst-near-infrared-spectrograph/nirspec-instrumentation/nirspec-micro-shutter-assembly  \n",
    "Note for each quadrant, the origin is at top right, and numbers increase to the bottom left corner.\n",
    "\n",
    "The JWST pipeline generates an [MSA metafile](https://jwst-pipeline.readthedocs.io/en/latest/jwst/data_products/msa_metadata.html)\n",
    "that uses a similar coordinate system in the `SHUTTER_INFO` *except* that:\n",
    "\n",
    "* rows and columns are swapped:\n",
    "    * columns increment in the spatial direction\n",
    "    * row numbers decrease in the dispersion direction\n",
    "    \n",
    "The MSA metafile `SHUTTER_IMAGE` combines all 4 quadrants into one 2D array:  \n",
    "\n",
    "* numbers are continuous without gaps\n",
    "    * the origin (1,1) is at top right\n",
    "    * (730,342) is at bottom left\n",
    "    \n",
    "...but only after shuffling them:  \n",
    "* quadrants are reordered as shown below:\n",
    "\n",
    "NIRSpec MSA quadrants:  \n",
    "Q3 Q1  \n",
    "Q4 Q2  \n",
    "\n",
    "MSA metafile coordinates:  \n",
    "Q3 Q4  \n",
    "Q2 Q1"
   ]
  },
  {
   "cell_type": "code",
   "execution_count": 31,
   "id": "8a1e511c",
   "metadata": {},
   "outputs": [],
   "source": [
    "import matplotlib.pyplot as plt\n",
    "import matplotlib as mpl\n",
    "#%matplotlib notebook  # interactive plots\n",
    "%matplotlib inline\n",
    "import copy"
   ]
  },
  {
   "cell_type": "code",
   "execution_count": 32,
   "id": "fbbd5185",
   "metadata": {},
   "outputs": [
    {
     "data": {
      "text/plain": [
       "(342, 730)"
      ]
     },
     "execution_count": 32,
     "metadata": {},
     "output_type": "execute_result"
    }
   ],
   "source": [
    "shutter_image = msa_hdu_list['SHUTTER_IMAGE'].data[:].T\n",
    "\n",
    "ny, nx = shutter_image.shape\n",
    "\n",
    "Q4 = shutter_image[:ny//2, :nx//2]\n",
    "Q3 = shutter_image[:ny//2, nx//2:]\n",
    "Q1 = shutter_image[ny//2:, :nx//2]\n",
    "Q2 = shutter_image[ny//2:, nx//2:]\n",
    "\n",
    "msa_image = np.vstack((np.hstack((Q1, Q3)), np.hstack((Q2, Q4))))\n",
    "msa_image.shape  # ny, nx"
   ]
  },
  {
   "cell_type": "code",
   "execution_count": 33,
   "id": "ed7d35af",
   "metadata": {},
   "outputs": [
    {
     "data": {
      "image/png": "[encoded data removed]",
      "text/plain": [
       "<Figure size 1200x1000 with 2 Axes>"
      ]
     },
     "metadata": {},
     "output_type": "display_data"
    }
   ],
   "source": [
    "fig, ax = plt.subplots(figsize=(12,10))\n",
    "cmap = copy.deepcopy(mpl.colormaps['turbo'])\n",
    "cmap.colors[0] = 1, 1, 1\n",
    "extent = 0.5, nx+0.5, ny+0.5, 0.5  # origin=(1,1); range = 1..nx, 1..ny with +/-0.5 boundary on either side\n",
    "im = plt.imshow(msa_image, aspect=nx/ny, interpolation='nearest', cmap=cmap, extent=extent)\n",
    "plt.xlim(nx+1,0)\n",
    "plt.ylim(ny+1,0)\n",
    "plt.xlabel('shutter row (full MSA)')\n",
    "plt.ylabel('shutter column (full MSA)')\n",
    "ax.yaxis.tick_right()\n",
    "ax.yaxis.set_label_position(\"right\")\n",
    "ax.xaxis.tick_top()\n",
    "ax.xaxis.set_label_position(\"top\")\n",
    "cbar = fig.colorbar(im, ax=ax, shrink=1, aspect=20, pad=0.02, location='left')\n",
    "cbar.set_label('SLITLET_ID')"
   ]
  },
  {
   "cell_type": "markdown",
   "id": "a69409d5",
   "metadata": {},
   "source": [
    "### Shutter Image from Shutter Table"
   ]
  },
  {
   "cell_type": "code",
   "execution_count": 34,
   "id": "913b8487",
   "metadata": {},
   "outputs": [],
   "source": [
    "def even(x): # even vs. odd number\n",
    "    return 1 - x % 2\n",
    "\n",
    "quadrant = shutter_table_dither1['shutter_quadrant']\n",
    "slitlet  = shutter_table_dither1['slitlet_id']\n",
    "\n",
    "# row, column resets within each quadrant\n",
    "row_in_quadrant    = shutter_table_dither1['shutter_row']\n",
    "column_in_quadrant = shutter_table_dither1['shutter_column']\n",
    "\n",
    "# row, column on full msa grid\n",
    "msa_row    = row_in_quadrant    + (quadrant > 2) * nx//2\n",
    "msa_column = column_in_quadrant + even(quadrant) * ny//2"
   ]
  },
  {
   "cell_type": "code",
   "execution_count": 35,
   "id": "c9f610c6",
   "metadata": {},
   "outputs": [
    {
     "name": "stderr",
     "output_type": "stream",
     "text": [
      "/var/folders/y3/vsjr6j554mnfpgy_m1xrnckm0003tz/T/ipykernel_67062/3273560917.py:12: UserWarning: Adding colorbar to a different Figure <Figure size 1200x1000 with 2 Axes> than <Figure size 1200x1000 with 2 Axes> which fig.colorbar is called on.\n",
      "  cbar = fig.colorbar(im, ax=ax, shrink=1, aspect=20, pad=0.02, location='left')\n"
     ]
    },
    {
     "data": {
      "image/png": "[encoded data removed]",
      "text/plain": [
       "<Figure size 1200x1000 with 2 Axes>"
      ]
     },
     "metadata": {},
     "output_type": "display_data"
    }
   ],
   "source": [
    "fig, ax = plt.subplots(figsize=(12,10))\n",
    "plt.scatter(msa_row, msa_column, c=slitlet, marker='+', cmap=cmap, clim=(0,np.max(slitlet)))\n",
    "plt.xlim(nx,0)\n",
    "plt.ylim(ny,0)\n",
    "plt.xlabel('shutter row (full MSA)')\n",
    "plt.ylabel('shutter column (full MSA)')\n",
    "ax.yaxis.tick_right()\n",
    "ax.yaxis.set_label_position(\"right\")\n",
    "ax.xaxis.tick_top()\n",
    "ax.xaxis.set_label_position(\"top\")\n",
    "ax.set_aspect(nx/ny)\n",
    "cbar = fig.colorbar(im, ax=ax, shrink=1, aspect=20, pad=0.02, location='left')\n",
    "cbar.set_label('SLITLET_ID')"
   ]
  },
  {
   "cell_type": "markdown",
   "id": "413a96ce",
   "metadata": {},
   "source": [
    "### Shutter Image from APT\n",
    "\n",
    "From APT – MPT – Plans – Pointings – Export Config.  \n",
    "This returns a CSV file with a 2D map of all shutters for that MSA configuration:\n",
    "* 1 = closed\n",
    "* 0 = open"
   ]
  },
  {
   "cell_type": "code",
   "execution_count": 36,
   "id": "f456ba37",
   "metadata": {},
   "outputs": [
    {
     "name": "stdout",
     "output_type": "stream",
     "text": [
      "DOWNLOADING data/2736.p1c1-2e1n1.csv\n"
     ]
    },
    {
     "data": {
      "text/plain": [
       "'data/2736.p1c1-2e1n1.csv'"
      ]
     },
     "execution_count": 36,
     "metadata": {},
     "output_type": "execute_result"
    }
   ],
   "source": [
    "msa_config_file = 'https://raw.githubusercontent.com/dancoe/NIRSpec_MOS_JWebbinar/main/data/2736.p1c1-2e1n1.csv'\n",
    "msa_config_file = download_file(msa_config_file, data_dir)\n",
    "msa_config_file"
   ]
  },
  {
   "cell_type": "code",
   "execution_count": 37,
   "id": "deab3a07",
   "metadata": {},
   "outputs": [],
   "source": [
    "import csv\n",
    "with open(msa_config_file, 'r') as f:\n",
    "    reader = csv.reader(f)\n",
    "    msa_config_data = list(reader)\n",
    "    \n",
    "msa_config_data = np.array(msa_config_data[1:])  # remove first line header\n",
    "msa_config_data = msa_config_data.astype(int).T"
   ]
  },
  {
   "cell_type": "code",
   "execution_count": 38,
   "id": "c74c8733",
   "metadata": {},
   "outputs": [
    {
     "data": {
      "image/png": "[encoded data removed]",
      "text/plain": [
       "<Figure size 1200x1000 with 1 Axes>"
      ]
     },
     "metadata": {},
     "output_type": "display_data"
    }
   ],
   "source": [
    "fig, ax = plt.subplots(figsize=(12,10))\n",
    "cmap = copy.deepcopy(mpl.colormaps['turbo'])\n",
    "cmap.colors[0] = 1, 1, 1\n",
    "extent = 0.5, nx+0.5, ny+0.5, 0.5  # origin=(1,1); range = 1..nx, 1..ny with +/-0.5 boundary on either side\n",
    "im = plt.imshow(1 - msa_config_data, aspect=nx/ny, interpolation='nearest', extent=extent, cmap=cmap)\n",
    "plt.xlim(nx+1,0)\n",
    "plt.ylim(ny+1,0)\n",
    "plt.xlabel('shutter row (full MSA)')\n",
    "plt.ylabel('shutter column (full MSA)')\n",
    "ax.yaxis.tick_right()\n",
    "ax.yaxis.set_label_position(\"right\")\n",
    "ax.xaxis.tick_top()\n",
    "ax.xaxis.set_label_position(\"top\")"
   ]
  },
  {
   "cell_type": "code",
   "execution_count": null,
   "id": "81b9b1c7",
   "metadata": {},
   "outputs": [],
   "source": []
  }
 ],
 "metadata": {
  "kernelspec": {
   "display_name": "Python 3 (ipykernel)",
   "language": "python",
   "name": "python3"
  },
  "language_info": {
   "codemirror_mode": {
    "name": "ipython",
    "version": 3
   },
   "file_extension": ".py",
   "mimetype": "text/x-python",
   "name": "python",
   "nbconvert_exporter": "python",
   "pygments_lexer": "ipython3",
   "version": "3.11.9"
  }
 },
 "nbformat": 4,
 "nbformat_minor": 5
}
